{
 "cells": [
  {
   "cell_type": "code",
   "execution_count": 1,
   "id": "065a36f5",
   "metadata": {
    "execution": {
     "iopub.execute_input": "2022-08-29T13:08:15.698921Z",
     "iopub.status.busy": "2022-08-29T13:08:15.697820Z",
     "iopub.status.idle": "2022-08-29T13:08:17.262838Z",
     "shell.execute_reply": "2022-08-29T13:08:17.261828Z"
    },
    "papermill": {
     "duration": 1.576039,
     "end_time": "2022-08-29T13:08:17.265658",
     "exception": false,
     "start_time": "2022-08-29T13:08:15.689619",
     "status": "completed"
    },
    "tags": []
   },
   "outputs": [],
   "source": [
    "# Setup feedback system\n",
    "from learntools.core import binder\n",
    "binder.bind(globals())\n",
    "from learntools.feature_engineering_new.ex3 import *\n",
    "\n",
    "import numpy as np\n",
    "import pandas as pd\n",
    "from sklearn.model_selection import cross_val_score\n",
    "from xgboost import XGBRegressor\n",
    "\n",
    "\n",
    "def score_dataset(X, y, model=XGBRegressor()):\n",
    "    # Label encoding for categoricals\n",
    "    for colname in X.select_dtypes([\"category\", \"object\"]):\n",
    "        X[colname], _ = X[colname].factorize()\n",
    "    # Metric for Housing competition is RMSLE (Root Mean Squared Log Error)\n",
    "    score = cross_val_score(\n",
    "        model, X, y, cv=5, scoring=\"neg_mean_squared_log_error\",\n",
    "    )\n",
    "    score = -1 * score.mean()\n",
    "    score = np.sqrt(score)\n",
    "    return score\n",
    "\n",
    "\n",
    "# Prepare data\n",
    "df = pd.read_csv(\"../input/fe-course-data/ames.csv\")\n",
    "X = df.copy()\n",
    "y = X.pop(\"SalePrice\")"
   ]
  },
  {
   "cell_type": "markdown",
   "id": "51c09854",
   "metadata": {
    "papermill": {
     "duration": 0.003821,
     "end_time": "2022-08-29T13:08:17.273921",
     "exception": false,
     "start_time": "2022-08-29T13:08:17.270100",
     "status": "completed"
    },
    "tags": []
   },
   "source": [
    "-------------------------------------------------------------------------------\n",
    "\n",
    "Let's start with a few mathematical combinations. We'll focus on features describing areas -- having the same units (square-feet) makes it easy to combine them in sensible ways. Since we're using XGBoost (a tree-based model), we'll focus on ratios and sums.\n",
    "\n",
    "# 1) Create Mathematical Transforms\n",
    "\n",
    "Create the following features:\n",
    "\n",
    "- `LivLotRatio`: the ratio of `GrLivArea` to `LotArea`\n",
    "- `Spaciousness`: the sum of `FirstFlrSF` and `SecondFlrSF` divided by `TotRmsAbvGrd`\n",
    "- `TotalOutsideSF`: the sum of `WoodDeckSF`, `OpenPorchSF`, `EnclosedPorch`, `Threeseasonporch`, and `ScreenPorch`"
   ]
  },
  {
   "cell_type": "code",
   "execution_count": 2,
   "id": "a41cbf99",
   "metadata": {
    "execution": {
     "iopub.execute_input": "2022-08-29T13:08:17.285232Z",
     "iopub.status.busy": "2022-08-29T13:08:17.283739Z",
     "iopub.status.idle": "2022-08-29T13:08:17.309826Z",
     "shell.execute_reply": "2022-08-29T13:08:17.308702Z"
    },
    "lines_to_next_cell": 0,
    "papermill": {
     "duration": 0.036598,
     "end_time": "2022-08-29T13:08:17.314470",
     "exception": false,
     "start_time": "2022-08-29T13:08:17.277872",
     "status": "completed"
    },
    "tags": []
   },
   "outputs": [
    {
     "data": {
      "application/javascript": [
       "parent.postMessage({\"jupyterEvent\": \"custom.exercise_interaction\", \"data\": {\"outcomeType\": 1, \"valueTowardsCompletion\": 0.2, \"interactionType\": 1, \"questionType\": 2, \"questionId\": \"1_Q1\", \"learnToolsVersion\": \"0.3.4\", \"failureMessage\": \"\", \"exceptionClass\": \"\", \"trace\": \"\"}}, \"*\")"
      ],
      "text/plain": [
       "<IPython.core.display.Javascript object>"
      ]
     },
     "metadata": {},
     "output_type": "display_data"
    },
    {
     "data": {
      "text/markdown": [
       "<span style=\"color:#33cc33\">Correct</span>"
      ],
      "text/plain": [
       "Correct"
      ]
     },
     "metadata": {},
     "output_type": "display_data"
    }
   ],
   "source": [
    "# YOUR CODE HERE\n",
    "X_1 = pd.DataFrame()  # dataframe to hold new features\n",
    "\n",
    "X_1[\"LivLotRatio\"] = df.GrLivArea / df.LotArea\n",
    "X_1[\"Spaciousness\"] = (df.FirstFlrSF + df.SecondFlrSF) / df.TotRmsAbvGrd\n",
    "X_1[\"TotalOutsideSF\"] = df.WoodDeckSF + df.OpenPorchSF + df.EnclosedPorch + df.Threeseasonporch + df.ScreenPorch\n",
    "\n",
    "\n",
    "# Check your answer\n",
    "q_1.check()"
   ]
  },
  {
   "cell_type": "code",
   "execution_count": null,
   "id": "6d9ccad8",
   "metadata": {
    "papermill": {
     "duration": 0.004009,
     "end_time": "2022-08-29T13:08:17.322997",
     "exception": false,
     "start_time": "2022-08-29T13:08:17.318988",
     "status": "completed"
    },
    "tags": []
   },
   "outputs": [],
   "source": []
  },
  {
   "cell_type": "markdown",
   "id": "48fc1b88",
   "metadata": {
    "papermill": {
     "duration": 0.003936,
     "end_time": "2022-08-29T13:08:17.331194",
     "exception": false,
     "start_time": "2022-08-29T13:08:17.327258",
     "status": "completed"
    },
    "tags": []
   },
   "source": [
    "-------------------------------------------------------------------------------\n",
    "\n",
    "If you've discovered an interaction effect between a numeric feature and a categorical feature, you might want to model it explicitly using a one-hot encoding, like so:\n",
    "\n",
    "```\n",
    "# One-hot encode Categorical feature, adding a column prefix \"Cat\"\n",
    "X_new = pd.get_dummies(df.Categorical, prefix=\"Cat\")\n",
    "\n",
    "# Multiply row-by-row\n",
    "X_new = X_new.mul(df.Continuous, axis=0)\n",
    "\n",
    "# Join the new features to the feature set\n",
    "X = X.join(X_new)\n",
    "```\n",
    "\n",
    "# 2) Interaction with a Categorical\n",
    "\n",
    "We discovered an interaction between `BldgType` and `GrLivArea` in Exercise 2. Now create their interaction features."
   ]
  },
  {
   "cell_type": "code",
   "execution_count": 3,
   "id": "94c81f74",
   "metadata": {
    "execution": {
     "iopub.execute_input": "2022-08-29T13:08:17.341833Z",
     "iopub.status.busy": "2022-08-29T13:08:17.341073Z",
     "iopub.status.idle": "2022-08-29T13:08:17.355382Z",
     "shell.execute_reply": "2022-08-29T13:08:17.354441Z"
    },
    "lines_to_next_cell": 0,
    "papermill": {
     "duration": 0.022242,
     "end_time": "2022-08-29T13:08:17.357586",
     "exception": false,
     "start_time": "2022-08-29T13:08:17.335344",
     "status": "completed"
    },
    "tags": []
   },
   "outputs": [
    {
     "data": {
      "application/javascript": [
       "parent.postMessage({\"jupyterEvent\": \"custom.exercise_interaction\", \"data\": {\"outcomeType\": 1, \"valueTowardsCompletion\": 0.2, \"interactionType\": 1, \"questionType\": 2, \"questionId\": \"2_Q2\", \"learnToolsVersion\": \"0.3.4\", \"failureMessage\": \"\", \"exceptionClass\": \"\", \"trace\": \"\"}}, \"*\")"
      ],
      "text/plain": [
       "<IPython.core.display.Javascript object>"
      ]
     },
     "metadata": {},
     "output_type": "display_data"
    },
    {
     "data": {
      "text/markdown": [
       "<span style=\"color:#33cc33\">Correct</span>"
      ],
      "text/plain": [
       "Correct"
      ]
     },
     "metadata": {},
     "output_type": "display_data"
    }
   ],
   "source": [
    "# YOUR CODE HERE\n",
    "# One-hot encode BldgType. Use `prefix=\"Bldg\"` in `get_dummies`\n",
    "X_2 = pd.get_dummies(df.BldgType, prefix=\"Bldg\") \n",
    "# Multiply\n",
    "X_2 = X_2.mul(df.GrLivArea, axis=0)\n",
    "\n",
    "# Check your answer\n",
    "q_2.check()"
   ]
  },
  {
   "cell_type": "markdown",
   "id": "e9cd6c12",
   "metadata": {
    "lines_to_next_cell": 0,
    "papermill": {
     "duration": 0.004188,
     "end_time": "2022-08-29T13:08:17.366512",
     "exception": false,
     "start_time": "2022-08-29T13:08:17.362324",
     "status": "completed"
    },
    "tags": []
   },
   "source": [
    "# 3) Count Feature\n",
    "\n",
    "Let's try creating a feature that describes how many kinds of outdoor areas a dwelling has. Create a feature `PorchTypes` that counts how many of the following are greater than 0.0:\n",
    "\n",
    "```\n",
    "WoodDeckSF\n",
    "OpenPorchSF\n",
    "EnclosedPorch\n",
    "Threeseasonporch\n",
    "ScreenPorch\n",
    "```"
   ]
  },
  {
   "cell_type": "code",
   "execution_count": 4,
   "id": "f23b5c8b",
   "metadata": {
    "execution": {
     "iopub.execute_input": "2022-08-29T13:08:17.377808Z",
     "iopub.status.busy": "2022-08-29T13:08:17.377074Z",
     "iopub.status.idle": "2022-08-29T13:08:17.394545Z",
     "shell.execute_reply": "2022-08-29T13:08:17.393633Z"
    },
    "lines_to_next_cell": 0,
    "papermill": {
     "duration": 0.025865,
     "end_time": "2022-08-29T13:08:17.396929",
     "exception": false,
     "start_time": "2022-08-29T13:08:17.371064",
     "status": "completed"
    },
    "tags": []
   },
   "outputs": [
    {
     "data": {
      "application/javascript": [
       "parent.postMessage({\"jupyterEvent\": \"custom.exercise_interaction\", \"data\": {\"outcomeType\": 1, \"valueTowardsCompletion\": 0.2, \"interactionType\": 1, \"questionType\": 2, \"questionId\": \"3_Q3\", \"learnToolsVersion\": \"0.3.4\", \"failureMessage\": \"\", \"exceptionClass\": \"\", \"trace\": \"\"}}, \"*\")"
      ],
      "text/plain": [
       "<IPython.core.display.Javascript object>"
      ]
     },
     "metadata": {},
     "output_type": "display_data"
    },
    {
     "data": {
      "text/markdown": [
       "<span style=\"color:#33cc33\">Correct</span>"
      ],
      "text/plain": [
       "Correct"
      ]
     },
     "metadata": {},
     "output_type": "display_data"
    }
   ],
   "source": [
    "X_3 = pd.DataFrame()\n",
    "\n",
    "# YOUR CODE HERE\n",
    "X_3[\"PorchTypes\"] = df[[\"WoodDeckSF\",\"OpenPorchSF\",\"EnclosedPorch\",\"Threeseasonporch\",\"ScreenPorch\",]].gt(0.0).sum(axis=1)\n",
    "\n",
    "\n",
    "# Check your answer\n",
    "q_3.check()"
   ]
  },
  {
   "cell_type": "markdown",
   "id": "e6d3c337",
   "metadata": {
    "papermill": {
     "duration": 0.004716,
     "end_time": "2022-08-29T13:08:17.407301",
     "exception": false,
     "start_time": "2022-08-29T13:08:17.402585",
     "status": "completed"
    },
    "tags": []
   },
   "source": [
    "# 4) Break Down a Categorical Feature\n",
    "\n",
    "`MSSubClass` describes the type of a dwelling:"
   ]
  },
  {
   "cell_type": "code",
   "execution_count": 5,
   "id": "3b162780",
   "metadata": {
    "execution": {
     "iopub.execute_input": "2022-08-29T13:08:17.419189Z",
     "iopub.status.busy": "2022-08-29T13:08:17.418698Z",
     "iopub.status.idle": "2022-08-29T13:08:17.426946Z",
     "shell.execute_reply": "2022-08-29T13:08:17.425841Z"
    },
    "papermill": {
     "duration": 0.016804,
     "end_time": "2022-08-29T13:08:17.429071",
     "exception": false,
     "start_time": "2022-08-29T13:08:17.412267",
     "status": "completed"
    },
    "tags": []
   },
   "outputs": [
    {
     "data": {
      "text/plain": [
       "array(['One_Story_1946_and_Newer_All_Styles', 'Two_Story_1946_and_Newer',\n",
       "       'One_Story_PUD_1946_and_Newer',\n",
       "       'One_and_Half_Story_Finished_All_Ages', 'Split_Foyer',\n",
       "       'Two_Story_PUD_1946_and_Newer', 'Split_or_Multilevel',\n",
       "       'One_Story_1945_and_Older', 'Duplex_All_Styles_and_Ages',\n",
       "       'Two_Family_conversion_All_Styles_and_Ages',\n",
       "       'One_and_Half_Story_Unfinished_All_Ages',\n",
       "       'Two_Story_1945_and_Older', 'Two_and_Half_Story_All_Ages',\n",
       "       'One_Story_with_Finished_Attic_All_Ages',\n",
       "       'PUD_Multilevel_Split_Level_Foyer',\n",
       "       'One_and_Half_Story_PUD_All_Ages'], dtype=object)"
      ]
     },
     "execution_count": 5,
     "metadata": {},
     "output_type": "execute_result"
    }
   ],
   "source": [
    "df.MSSubClass.unique()"
   ]
  },
  {
   "cell_type": "markdown",
   "id": "d5022d31",
   "metadata": {
    "papermill": {
     "duration": 0.004692,
     "end_time": "2022-08-29T13:08:17.438830",
     "exception": false,
     "start_time": "2022-08-29T13:08:17.434138",
     "status": "completed"
    },
    "tags": []
   },
   "source": [
    "You can see that there is a more general categorization described (roughly) by the first word of each category. Create a feature containing only these first words by splitting `MSSubClass` at the first underscore `_`. (Hint: In the `split` method use an argument `n=1`.)"
   ]
  },
  {
   "cell_type": "code",
   "execution_count": 6,
   "id": "5cf9ed6b",
   "metadata": {
    "execution": {
     "iopub.execute_input": "2022-08-29T13:08:17.450459Z",
     "iopub.status.busy": "2022-08-29T13:08:17.449658Z",
     "iopub.status.idle": "2022-08-29T13:08:17.475773Z",
     "shell.execute_reply": "2022-08-29T13:08:17.474841Z"
    },
    "lines_to_next_cell": 0,
    "papermill": {
     "duration": 0.034466,
     "end_time": "2022-08-29T13:08:17.478092",
     "exception": false,
     "start_time": "2022-08-29T13:08:17.443626",
     "status": "completed"
    },
    "tags": []
   },
   "outputs": [
    {
     "data": {
      "application/javascript": [
       "parent.postMessage({\"jupyterEvent\": \"custom.exercise_interaction\", \"data\": {\"outcomeType\": 1, \"valueTowardsCompletion\": 0.2, \"interactionType\": 1, \"questionType\": 2, \"questionId\": \"4_Q4\", \"learnToolsVersion\": \"0.3.4\", \"failureMessage\": \"\", \"exceptionClass\": \"\", \"trace\": \"\"}}, \"*\")"
      ],
      "text/plain": [
       "<IPython.core.display.Javascript object>"
      ]
     },
     "metadata": {},
     "output_type": "display_data"
    },
    {
     "data": {
      "text/markdown": [
       "<span style=\"color:#33cc33\">Correct</span>"
      ],
      "text/plain": [
       "Correct"
      ]
     },
     "metadata": {},
     "output_type": "display_data"
    }
   ],
   "source": [
    "X_4 = pd.DataFrame()\n",
    "\n",
    "X_4[\"MSClass\"] = df.MSSubClass.str.split(\"_\", n=1, expand=True)[0]\n",
    "# Check your answer\n",
    "q_4.check()"
   ]
  },
  {
   "cell_type": "markdown",
   "id": "44153061",
   "metadata": {
    "papermill": {
     "duration": 0.004679,
     "end_time": "2022-08-29T13:08:17.487791",
     "exception": false,
     "start_time": "2022-08-29T13:08:17.483112",
     "status": "completed"
    },
    "tags": []
   },
   "source": [
    "# 5) Use a Grouped Transform\n",
    "\n",
    "The value of a home often depends on how it compares to typical homes in its neighborhood. Create a feature `MedNhbdArea` that describes the *median* of `GrLivArea` grouped on `Neighborhood`."
   ]
  },
  {
   "cell_type": "code",
   "execution_count": 7,
   "id": "05715ba9",
   "metadata": {
    "execution": {
     "iopub.execute_input": "2022-08-29T13:08:17.500127Z",
     "iopub.status.busy": "2022-08-29T13:08:17.499436Z",
     "iopub.status.idle": "2022-08-29T13:08:17.519115Z",
     "shell.execute_reply": "2022-08-29T13:08:17.517827Z"
    },
    "lines_to_next_cell": 0,
    "papermill": {
     "duration": 0.028513,
     "end_time": "2022-08-29T13:08:17.521566",
     "exception": false,
     "start_time": "2022-08-29T13:08:17.493053",
     "status": "completed"
    },
    "tags": []
   },
   "outputs": [
    {
     "data": {
      "application/javascript": [
       "parent.postMessage({\"jupyterEvent\": \"custom.exercise_interaction\", \"data\": {\"outcomeType\": 1, \"valueTowardsCompletion\": 0.2, \"interactionType\": 1, \"questionType\": 2, \"questionId\": \"5_Q5\", \"learnToolsVersion\": \"0.3.4\", \"failureMessage\": \"\", \"exceptionClass\": \"\", \"trace\": \"\"}}, \"*\")"
      ],
      "text/plain": [
       "<IPython.core.display.Javascript object>"
      ]
     },
     "metadata": {},
     "output_type": "display_data"
    },
    {
     "data": {
      "text/markdown": [
       "<span style=\"color:#33cc33\">Correct</span>"
      ],
      "text/plain": [
       "Correct"
      ]
     },
     "metadata": {},
     "output_type": "display_data"
    }
   ],
   "source": [
    "X_5 = pd.DataFrame()\n",
    "\n",
    "# YOUR CODE HERE\n",
    "X_5[\"MedNhbdArea\"] = df.groupby(\"Neighborhood\")[\"GrLivArea\"].transform(\"median\")\n",
    "\n",
    "# Check your answer\n",
    "q_5.check()"
   ]
  },
  {
   "cell_type": "code",
   "execution_count": 8,
   "id": "f50b6634",
   "metadata": {
    "execution": {
     "iopub.execute_input": "2022-08-29T13:08:17.534282Z",
     "iopub.status.busy": "2022-08-29T13:08:17.533500Z",
     "iopub.status.idle": "2022-08-29T13:08:22.411473Z",
     "shell.execute_reply": "2022-08-29T13:08:22.410246Z"
    },
    "papermill": {
     "duration": 4.88723,
     "end_time": "2022-08-29T13:08:22.414001",
     "exception": false,
     "start_time": "2022-08-29T13:08:17.526771",
     "status": "completed"
    },
    "tags": []
   },
   "outputs": [
    {
     "data": {
      "text/plain": [
       "0.13847331710099203"
      ]
     },
     "execution_count": 8,
     "metadata": {},
     "output_type": "execute_result"
    }
   ],
   "source": [
    "X_new = X.join([X_1, X_2, X_3, X_4, X_5])\n",
    "score_dataset(X_new, y)"
   ]
  }
 ],
 "metadata": {
  "kernelspec": {
   "display_name": "Python 3",
   "language": "python",
   "name": "python3"
  },
  "language_info": {
   "codemirror_mode": {
    "name": "ipython",
    "version": 3
   },
   "file_extension": ".py",
   "mimetype": "text/x-python",
   "name": "python",
   "nbconvert_exporter": "python",
   "pygments_lexer": "ipython3",
   "version": "3.7.12"
  },
  "papermill": {
   "default_parameters": {},
   "duration": 17.253486,
   "end_time": "2022-08-29T13:08:23.140209",
   "environment_variables": {},
   "exception": null,
   "input_path": "__notebook__.ipynb",
   "output_path": "__notebook__.ipynb",
   "parameters": {},
   "start_time": "2022-08-29T13:08:05.886723",
   "version": "2.3.4"
  }
 },
 "nbformat": 4,
 "nbformat_minor": 5
}
